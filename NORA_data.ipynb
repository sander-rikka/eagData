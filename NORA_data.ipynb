{
 "cells": [
  {
   "cell_type": "code",
   "execution_count": 56,
   "id": "initial_id",
   "metadata": {
    "collapsed": true,
    "ExecuteTime": {
     "end_time": "2024-11-26T11:01:52.021962600Z",
     "start_time": "2024-11-26T11:01:49.648390700Z"
    }
   },
   "outputs": [],
   "source": [
    "import numpy as np\n",
    "# import netCDF4 as nc\n",
    "import xarray as xr\n",
    "import matplotlib.pyplot as plt\n",
    "import pandas as pd\n",
    "import glob"
   ]
  },
  {
   "cell_type": "code",
   "outputs": [],
   "source": [
    "dpath = r'data\\NORA'\n",
    "station = 'bot'\n",
    "meas_freq = [0.025, 0.03, 0.035, 0.04, 0.045, 0.05, 0.055, 0.06, 0.065, 0.07, 0.075, 0.08, 0.085, 0.09, 0.095, 0.1, 0.105, 0.11, 0.115, 0.12, 0.125,\n",
    "             0.13, 0.135, 0.14, 0.145, 0.15, 0.155, 0.16, 0.165, 0.17, 0.175, 0.18, 0.185, 0.19, 0.195, 0.2, 0.205, 0.21, 0.215, 0.22, 0.225, 0.23,\n",
    "             0.235, 0.24, 0.245, 0.25, 0.26, 0.27, 0.28, 0.29, 0.3, 0.31, 0.32, 0.33, 0.34, 0.35, 0.36, 0.37, 0.38, 0.39, 0.4, 0.41, 0.42, 0.43, 0.44,\n",
    "             0.45, 0.46, 0.47, 0.48, 0.49, 0.5, 0.51, 0.52, 0.53, 0.54, 0.55, 0.56, 0.57, 0.58, 0.6]"
   ],
   "metadata": {
    "collapsed": false,
    "ExecuteTime": {
     "end_time": "2024-11-26T11:40:49.780840200Z",
     "start_time": "2024-11-26T11:40:49.752839700Z"
    }
   },
   "id": "1822c0cc5592273f",
   "execution_count": 91
  },
  {
   "cell_type": "code",
   "outputs": [
    {
     "data": {
      "text/plain": "['data\\\\NORA\\\\spec1d_NORA3_dnora_bot_2016_2022_specs_20160101T0000-20221231T2300.nc']"
     },
     "execution_count": 92,
     "metadata": {},
     "output_type": "execute_result"
    }
   ],
   "source": [
    "file = glob.glob(f'{dpath}/*{station}*.nc')\n",
    "file"
   ],
   "metadata": {
    "collapsed": false,
    "ExecuteTime": {
     "end_time": "2024-11-26T11:40:50.733445100Z",
     "start_time": "2024-11-26T11:40:50.699447100Z"
    }
   },
   "id": "a79ec1493d4e26b9",
   "execution_count": 92
  },
  {
   "cell_type": "code",
   "outputs": [],
   "source": [
    "dset = xr.open_dataset(file[0])\n",
    "# dset.variables"
   ],
   "metadata": {
    "collapsed": false,
    "ExecuteTime": {
     "end_time": "2024-11-26T11:40:52.781743900Z",
     "start_time": "2024-11-26T11:40:52.732745700Z"
    }
   },
   "id": "938402c133f36491",
   "execution_count": 93
  },
  {
   "cell_type": "code",
   "outputs": [],
   "source": [
    "# Select only the \"temperature\" variable for interpolation\n",
    "var = 'spec' #'spec', 'spr, 'mdir'\n",
    "spec_interpolated = dset[var].interp(freq=meas_freq)\n",
    "# spec_interpolated.data"
   ],
   "metadata": {
    "collapsed": false,
    "ExecuteTime": {
     "end_time": "2024-11-26T11:41:24.620693Z",
     "start_time": "2024-11-26T11:41:24.479692900Z"
    }
   },
   "id": "8603a7e014041032",
   "execution_count": 100
  },
  {
   "cell_type": "code",
   "outputs": [],
   "source": [
    "df_spec = pd.DataFrame(spec_interpolated.data[:,0,:], columns=meas_freq)\n",
    "df_spec.index = dset['time']\n",
    "# df_spec"
   ],
   "metadata": {
    "collapsed": false,
    "ExecuteTime": {
     "end_time": "2024-11-26T11:41:25.123727200Z",
     "start_time": "2024-11-26T11:41:25.100694300Z"
    }
   },
   "id": "80bd2dbf0806935c",
   "execution_count": 101
  },
  {
   "cell_type": "code",
   "outputs": [],
   "source": [
    "df_spec.to_csv(rf'{dpath}\\NORA_{station}_{var}.csv')"
   ],
   "metadata": {
    "collapsed": false,
    "ExecuteTime": {
     "end_time": "2024-11-26T11:41:32.833174200Z",
     "start_time": "2024-11-26T11:41:25.580695100Z"
    }
   },
   "id": "57233103d9eb0be5",
   "execution_count": 102
  },
  {
   "cell_type": "code",
   "outputs": [],
   "source": [],
   "metadata": {
    "collapsed": false
   },
   "id": "16032870558d39f2"
  }
 ],
 "metadata": {
  "kernelspec": {
   "display_name": "Python 3",
   "language": "python",
   "name": "python3"
  },
  "language_info": {
   "codemirror_mode": {
    "name": "ipython",
    "version": 2
   },
   "file_extension": ".py",
   "mimetype": "text/x-python",
   "name": "python",
   "nbconvert_exporter": "python",
   "pygments_lexer": "ipython2",
   "version": "2.7.6"
  }
 },
 "nbformat": 4,
 "nbformat_minor": 5
}
