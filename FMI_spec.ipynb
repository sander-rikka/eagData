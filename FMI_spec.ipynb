{
 "cells": [
  {
   "cell_type": "code",
   "execution_count": 51,
   "outputs": [],
   "source": [
    "import netCDF4 as nc\n",
    "import matplotlib.pyplot as plt\n",
    "import numpy.ma as ma\n",
    "import numpy as np\n",
    "import os\n",
    "\n",
    "import pandas as pd"
   ],
   "metadata": {
    "collapsed": false,
    "pycharm": {
     "name": "#%%\n"
    }
   }
  },
  {
   "cell_type": "code",
   "execution_count": 5,
   "outputs": [],
   "source": [
    "datapath = r'D:\\Project_data\\2023-eag249\\FMI_data'"
   ],
   "metadata": {
    "collapsed": false,
    "pycharm": {
     "name": "#%%\n"
    }
   }
  },
  {
   "cell_type": "code",
   "execution_count": 7,
   "outputs": [
    {
     "data": {
      "text/plain": "'2016'"
     },
     "execution_count": 7,
     "metadata": {},
     "output_type": "execute_result"
    }
   ],
   "source": [
    "# folder has data from three buoys separated by years\n",
    "files = os.listdir(datapath)\n",
    "files[0].split('_')[1][0:4]"
   ],
   "metadata": {
    "collapsed": false,
    "pycharm": {
     "name": "#%%\n"
    }
   }
  },
  {
   "cell_type": "code",
   "execution_count": 52,
   "outputs": [],
   "source": [
    "# just for fun challenge to do this in OOP\n",
    "\n",
    "class FmiDataLoad(object):\n",
    "    datapath = r'D:\\Project_data\\2023-eag249\\FMI_data'\n",
    "    start_f_ind = 0  # 0.025 Hz\n",
    "    end_f_ind = 80  # 0.6 Hz\n",
    "\n",
    "    def __init__(self, station: str, ds_params: list):\n",
    "        if self.validate_station_name(station):\n",
    "            self.stationname = station\n",
    "        if self.validate_param_names(ds_params):\n",
    "            self.ds_params = ds_params\n",
    "\n",
    "        self.available_files = self.get_available_files()\n",
    "        self.F = None\n",
    "        self.S = None\n",
    "        self.SPR = None\n",
    "        self.D = None\n",
    "\n",
    "    def load_vars_into_df(self):\n",
    "        for param in self.ds_params:\n",
    "            if param == 'S':\n",
    "                self.S = self.load_param(param)\n",
    "            if param == 'spr':\n",
    "                self.SPR = self.load_param(param)\n",
    "            if param == 'D':\n",
    "                self.D = self.load_param(param)\n",
    "\n",
    "    def load_param(self, param) -> pd.DataFrame:\n",
    "        df = pd.DataFrame()\n",
    "        for file in self.available_files:\n",
    "            dset = nc.Dataset(os.path.join(FmiDataLoad.datapath, file))\n",
    "            time = dset['time']\n",
    "\n",
    "            data = ma.getdata(dset[param][:])\n",
    "            df_i = pd.DataFrame(data[FmiDataLoad.start_f_ind: FmiDataLoad.end_f_ind, :].T, index=pd.to_datetime(time[:], unit='s'))\n",
    "            # df['Date'] = pd.to_datetime(time[:], unit='s')\n",
    "            df = pd.concat([df, df_i], axis=0)\n",
    "\n",
    "        # assumption that all the Frequency values between files are the same.. should check\n",
    "        f = dset['F']  # takes F from last file\n",
    "        self.F = ma.getdata(f[:][FmiDataLoad.start_f_ind:FmiDataLoad.end_f_ind, 0])\n",
    "        f_str = [str(x) for x in f[:][FmiDataLoad.start_f_ind:FmiDataLoad.end_f_ind, 0]]\n",
    "        df.columns = f_str\n",
    "        return df\n",
    "\n",
    "    def get_available_files(self) -> list:\n",
    "        files = os.listdir(FmiDataLoad.datapath)\n",
    "        available_files = []\n",
    "        for file in files:\n",
    "            if file.startswith(self.stationname):\n",
    "                available_files.append(file)\n",
    "        return available_files\n",
    "\n",
    "    @staticmethod\n",
    "    def validate_param_names(params):\n",
    "        valid = []\n",
    "        for param in params:\n",
    "            valid.append(FmiDataLoad.valid_params(param))\n",
    "            if np.all(valid):\n",
    "                return True\n",
    "            else:\n",
    "                raise ValueError(f'Not valid parameter names. Expected S, spr; got {param}')\n",
    "\n",
    "    @staticmethod\n",
    "    def validate_station_name(station):\n",
    "        if station in ['BS', 'NBP', 'GOF']:\n",
    "            return True\n",
    "        else:\n",
    "            raise ValueError(f'Not valid stationname, expected BS, NBP, GOF. Got {station}')\n",
    "\n",
    "    @staticmethod\n",
    "    def valid_params(param):\n",
    "        if param in ['S', 'spr', 'D']:\n",
    "            return True\n",
    "        else:\n",
    "            raise ValueError(f'Not valid parameter name! Expected S, or spr; got {param}.')\n"
   ],
   "metadata": {
    "collapsed": false,
    "pycharm": {
     "name": "#%%\n"
    }
   }
  },
  {
   "cell_type": "code",
   "execution_count": 59,
   "outputs": [
    {
     "data": {
      "text/plain": "                      0.025    0.03   0.035    0.04   0.045    0.05   0.055  \\\n2016-01-01 00:25:00  162.00  157.00  172.00  152.00  174.00  179.00  180.00   \n2016-01-01 00:55:00  163.00  153.00  167.00  166.00  159.00  165.00  165.00   \n2016-01-01 01:25:00  153.00  166.00  143.00  184.00  165.00  169.00  169.00   \n2016-01-01 01:55:00  180.00  181.00  160.00  134.00  162.00  194.00  155.00   \n2016-01-01 02:25:00  200.00  184.00  150.00  181.00  152.00  180.00  169.00   \n...                     ...     ...     ...     ...     ...     ...     ...   \n2022-12-31 21:30:00  228.25  230.71  225.18  236.87  259.11  250.58  253.48   \n2022-12-31 22:00:00  218.14  224.12  235.20  231.86  239.07  245.40  242.93   \n2022-12-31 22:30:00  274.67  256.38  238.36  250.85  255.77  265.09  270.10   \n2022-12-31 23:00:00  246.10  261.31  253.84  252.34  243.99  245.31  255.42   \n2022-12-31 23:30:00  280.03  263.51  261.40  271.15  285.40  277.40  279.77   \n\n                       0.06   0.065    0.07  ...     0.5    0.51    0.52  \\\n2016-01-01 00:25:00  162.00  170.00  165.00  ...   -9.00   -9.00   -9.00   \n2016-01-01 00:55:00  166.00  183.00  165.00  ...   -9.00   -9.00   -9.00   \n2016-01-01 01:25:00  149.00  157.00  138.00  ...   -9.00   -9.00   -9.00   \n2016-01-01 01:55:00  157.00  187.00  165.00  ...   -9.00   -9.00   -9.00   \n2016-01-01 02:25:00  169.00  148.00  188.00  ...   -9.00   -9.00   -9.00   \n...                     ...     ...     ...  ...     ...     ...     ...   \n2022-12-31 21:30:00  259.64  251.64  261.40  ...  274.93  283.46  274.14   \n2022-12-31 22:00:00  234.41  250.76  247.24  ...  304.65  281.97  281.35   \n2022-12-31 22:30:00  268.43  275.20  264.56  ...  296.21  287.51  284.16   \n2022-12-31 23:00:00  258.67  261.92  270.19  ...  299.37  307.46  297.70   \n2022-12-31 23:30:00  289.53  296.91  296.12  ...  290.32  286.36  284.52   \n\n                       0.53    0.54    0.55    0.56    0.57    0.58     0.6  \n2016-01-01 00:25:00   -9.00   -9.00   -9.00   -9.00   -9.00   -9.00   -9.00  \n2016-01-01 00:55:00   -9.00   -9.00   -9.00   -9.00   -9.00   -9.00   -9.00  \n2016-01-01 01:25:00   -9.00   -9.00   -9.00   -9.00   -9.00   -9.00   -9.00  \n2016-01-01 01:55:00   -9.00   -9.00   -9.00   -9.00   -9.00   -9.00   -9.00  \n2016-01-01 02:25:00   -9.00   -9.00   -9.00   -9.00   -9.00   -9.00   -9.00  \n...                     ...     ...     ...     ...     ...     ...     ...  \n2022-12-31 21:30:00  303.07  270.71  282.85  294.10  286.98  305.70  288.03  \n2022-12-31 22:00:00  278.10  267.20  267.20  282.58  282.67  270.63  296.91  \n2022-12-31 22:30:00  291.46  261.31  253.40  295.59  290.93  302.10  270.80  \n2022-12-31 23:00:00  311.68  291.90  289.26  282.32  296.65  283.02  276.08  \n2022-12-31 23:30:00  302.80  301.66  273.44  276.96  309.31  306.76  305.26  \n\n[112980 rows x 80 columns]",
      "text/html": "<div>\n<style scoped>\n    .dataframe tbody tr th:only-of-type {\n        vertical-align: middle;\n    }\n\n    .dataframe tbody tr th {\n        vertical-align: top;\n    }\n\n    .dataframe thead th {\n        text-align: right;\n    }\n</style>\n<table border=\"1\" class=\"dataframe\">\n  <thead>\n    <tr style=\"text-align: right;\">\n      <th></th>\n      <th>0.025</th>\n      <th>0.03</th>\n      <th>0.035</th>\n      <th>0.04</th>\n      <th>0.045</th>\n      <th>0.05</th>\n      <th>0.055</th>\n      <th>0.06</th>\n      <th>0.065</th>\n      <th>0.07</th>\n      <th>...</th>\n      <th>0.5</th>\n      <th>0.51</th>\n      <th>0.52</th>\n      <th>0.53</th>\n      <th>0.54</th>\n      <th>0.55</th>\n      <th>0.56</th>\n      <th>0.57</th>\n      <th>0.58</th>\n      <th>0.6</th>\n    </tr>\n  </thead>\n  <tbody>\n    <tr>\n      <th>2016-01-01 00:25:00</th>\n      <td>162.00</td>\n      <td>157.00</td>\n      <td>172.00</td>\n      <td>152.00</td>\n      <td>174.00</td>\n      <td>179.00</td>\n      <td>180.00</td>\n      <td>162.00</td>\n      <td>170.00</td>\n      <td>165.00</td>\n      <td>...</td>\n      <td>-9.00</td>\n      <td>-9.00</td>\n      <td>-9.00</td>\n      <td>-9.00</td>\n      <td>-9.00</td>\n      <td>-9.00</td>\n      <td>-9.00</td>\n      <td>-9.00</td>\n      <td>-9.00</td>\n      <td>-9.00</td>\n    </tr>\n    <tr>\n      <th>2016-01-01 00:55:00</th>\n      <td>163.00</td>\n      <td>153.00</td>\n      <td>167.00</td>\n      <td>166.00</td>\n      <td>159.00</td>\n      <td>165.00</td>\n      <td>165.00</td>\n      <td>166.00</td>\n      <td>183.00</td>\n      <td>165.00</td>\n      <td>...</td>\n      <td>-9.00</td>\n      <td>-9.00</td>\n      <td>-9.00</td>\n      <td>-9.00</td>\n      <td>-9.00</td>\n      <td>-9.00</td>\n      <td>-9.00</td>\n      <td>-9.00</td>\n      <td>-9.00</td>\n      <td>-9.00</td>\n    </tr>\n    <tr>\n      <th>2016-01-01 01:25:00</th>\n      <td>153.00</td>\n      <td>166.00</td>\n      <td>143.00</td>\n      <td>184.00</td>\n      <td>165.00</td>\n      <td>169.00</td>\n      <td>169.00</td>\n      <td>149.00</td>\n      <td>157.00</td>\n      <td>138.00</td>\n      <td>...</td>\n      <td>-9.00</td>\n      <td>-9.00</td>\n      <td>-9.00</td>\n      <td>-9.00</td>\n      <td>-9.00</td>\n      <td>-9.00</td>\n      <td>-9.00</td>\n      <td>-9.00</td>\n      <td>-9.00</td>\n      <td>-9.00</td>\n    </tr>\n    <tr>\n      <th>2016-01-01 01:55:00</th>\n      <td>180.00</td>\n      <td>181.00</td>\n      <td>160.00</td>\n      <td>134.00</td>\n      <td>162.00</td>\n      <td>194.00</td>\n      <td>155.00</td>\n      <td>157.00</td>\n      <td>187.00</td>\n      <td>165.00</td>\n      <td>...</td>\n      <td>-9.00</td>\n      <td>-9.00</td>\n      <td>-9.00</td>\n      <td>-9.00</td>\n      <td>-9.00</td>\n      <td>-9.00</td>\n      <td>-9.00</td>\n      <td>-9.00</td>\n      <td>-9.00</td>\n      <td>-9.00</td>\n    </tr>\n    <tr>\n      <th>2016-01-01 02:25:00</th>\n      <td>200.00</td>\n      <td>184.00</td>\n      <td>150.00</td>\n      <td>181.00</td>\n      <td>152.00</td>\n      <td>180.00</td>\n      <td>169.00</td>\n      <td>169.00</td>\n      <td>148.00</td>\n      <td>188.00</td>\n      <td>...</td>\n      <td>-9.00</td>\n      <td>-9.00</td>\n      <td>-9.00</td>\n      <td>-9.00</td>\n      <td>-9.00</td>\n      <td>-9.00</td>\n      <td>-9.00</td>\n      <td>-9.00</td>\n      <td>-9.00</td>\n      <td>-9.00</td>\n    </tr>\n    <tr>\n      <th>...</th>\n      <td>...</td>\n      <td>...</td>\n      <td>...</td>\n      <td>...</td>\n      <td>...</td>\n      <td>...</td>\n      <td>...</td>\n      <td>...</td>\n      <td>...</td>\n      <td>...</td>\n      <td>...</td>\n      <td>...</td>\n      <td>...</td>\n      <td>...</td>\n      <td>...</td>\n      <td>...</td>\n      <td>...</td>\n      <td>...</td>\n      <td>...</td>\n      <td>...</td>\n      <td>...</td>\n    </tr>\n    <tr>\n      <th>2022-12-31 21:30:00</th>\n      <td>228.25</td>\n      <td>230.71</td>\n      <td>225.18</td>\n      <td>236.87</td>\n      <td>259.11</td>\n      <td>250.58</td>\n      <td>253.48</td>\n      <td>259.64</td>\n      <td>251.64</td>\n      <td>261.40</td>\n      <td>...</td>\n      <td>274.93</td>\n      <td>283.46</td>\n      <td>274.14</td>\n      <td>303.07</td>\n      <td>270.71</td>\n      <td>282.85</td>\n      <td>294.10</td>\n      <td>286.98</td>\n      <td>305.70</td>\n      <td>288.03</td>\n    </tr>\n    <tr>\n      <th>2022-12-31 22:00:00</th>\n      <td>218.14</td>\n      <td>224.12</td>\n      <td>235.20</td>\n      <td>231.86</td>\n      <td>239.07</td>\n      <td>245.40</td>\n      <td>242.93</td>\n      <td>234.41</td>\n      <td>250.76</td>\n      <td>247.24</td>\n      <td>...</td>\n      <td>304.65</td>\n      <td>281.97</td>\n      <td>281.35</td>\n      <td>278.10</td>\n      <td>267.20</td>\n      <td>267.20</td>\n      <td>282.58</td>\n      <td>282.67</td>\n      <td>270.63</td>\n      <td>296.91</td>\n    </tr>\n    <tr>\n      <th>2022-12-31 22:30:00</th>\n      <td>274.67</td>\n      <td>256.38</td>\n      <td>238.36</td>\n      <td>250.85</td>\n      <td>255.77</td>\n      <td>265.09</td>\n      <td>270.10</td>\n      <td>268.43</td>\n      <td>275.20</td>\n      <td>264.56</td>\n      <td>...</td>\n      <td>296.21</td>\n      <td>287.51</td>\n      <td>284.16</td>\n      <td>291.46</td>\n      <td>261.31</td>\n      <td>253.40</td>\n      <td>295.59</td>\n      <td>290.93</td>\n      <td>302.10</td>\n      <td>270.80</td>\n    </tr>\n    <tr>\n      <th>2022-12-31 23:00:00</th>\n      <td>246.10</td>\n      <td>261.31</td>\n      <td>253.84</td>\n      <td>252.34</td>\n      <td>243.99</td>\n      <td>245.31</td>\n      <td>255.42</td>\n      <td>258.67</td>\n      <td>261.92</td>\n      <td>270.19</td>\n      <td>...</td>\n      <td>299.37</td>\n      <td>307.46</td>\n      <td>297.70</td>\n      <td>311.68</td>\n      <td>291.90</td>\n      <td>289.26</td>\n      <td>282.32</td>\n      <td>296.65</td>\n      <td>283.02</td>\n      <td>276.08</td>\n    </tr>\n    <tr>\n      <th>2022-12-31 23:30:00</th>\n      <td>280.03</td>\n      <td>263.51</td>\n      <td>261.40</td>\n      <td>271.15</td>\n      <td>285.40</td>\n      <td>277.40</td>\n      <td>279.77</td>\n      <td>289.53</td>\n      <td>296.91</td>\n      <td>296.12</td>\n      <td>...</td>\n      <td>290.32</td>\n      <td>286.36</td>\n      <td>284.52</td>\n      <td>302.80</td>\n      <td>301.66</td>\n      <td>273.44</td>\n      <td>276.96</td>\n      <td>309.31</td>\n      <td>306.76</td>\n      <td>305.26</td>\n    </tr>\n  </tbody>\n</table>\n<p>112980 rows × 80 columns</p>\n</div>"
     },
     "execution_count": 59,
     "metadata": {},
     "output_type": "execute_result"
    }
   ],
   "source": [
    "test = FmiDataLoad(station='BS', ds_params=['S','spr','D'])\n",
    "test.load_vars_into_df()\n",
    "test.D"
   ],
   "metadata": {
    "collapsed": false,
    "pycharm": {
     "name": "#%%\n"
    }
   }
  },
  {
   "cell_type": "code",
   "execution_count": 15,
   "outputs": [
    {
     "data": {
      "text/plain": "[0, 2]"
     },
     "execution_count": 15,
     "metadata": {},
     "output_type": "execute_result"
    }
   ],
   "source": [
    "valid = [False, True, False]\n",
    "[i for i, x in enumerate(valid) if not x]"
   ],
   "metadata": {
    "collapsed": false,
    "pycharm": {
     "name": "#%%\n"
    }
   }
  },
  {
   "cell_type": "code",
   "execution_count": 14,
   "outputs": [
    {
     "ename": "NameError",
     "evalue": "name 'x' is not defined",
     "output_type": "error",
     "traceback": [
      "\u001B[1;31m---------------------------------------------------------------------------\u001B[0m",
      "\u001B[1;31mNameError\u001B[0m                                 Traceback (most recent call last)",
      "\u001B[1;32m~\\AppData\\Local\\Temp\\ipykernel_53740\\32546335.py\u001B[0m in \u001B[0;36m<cell line: 1>\u001B[1;34m()\u001B[0m\n\u001B[1;32m----> 1\u001B[1;33m \u001B[0mx\u001B[0m\u001B[1;33m\u001B[0m\u001B[1;33m\u001B[0m\u001B[0m\n\u001B[0m",
      "\u001B[1;31mNameError\u001B[0m: name 'x' is not defined"
     ]
    }
   ],
   "source": [
    "x"
   ],
   "metadata": {
    "collapsed": false,
    "pycharm": {
     "name": "#%%\n"
    }
   }
  },
  {
   "cell_type": "code",
   "execution_count": null,
   "outputs": [],
   "source": [],
   "metadata": {
    "collapsed": false,
    "pycharm": {
     "name": "#%%\n"
    }
   }
  }
 ],
 "metadata": {
  "kernelspec": {
   "display_name": "Python 3",
   "language": "python",
   "name": "python3"
  },
  "language_info": {
   "codemirror_mode": {
    "name": "ipython",
    "version": 2
   },
   "file_extension": ".py",
   "mimetype": "text/x-python",
   "name": "python",
   "nbconvert_exporter": "python",
   "pygments_lexer": "ipython2",
   "version": "2.7.6"
  }
 },
 "nbformat": 4,
 "nbformat_minor": 0
}