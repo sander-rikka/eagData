{
 "cells": [
  {
   "cell_type": "code",
   "execution_count": 2,
   "outputs": [],
   "source": [
    "import netCDF4 as nc\n",
    "# import matplotlib.pyplot as plt\n",
    "import numpy.ma as ma\n",
    "import numpy as np\n",
    "import os\n",
    "\n",
    "import pandas as pd"
   ],
   "metadata": {
    "collapsed": false,
    "pycharm": {
     "name": "#%%\n"
    },
    "ExecuteTime": {
     "end_time": "2024-11-26T08:51:23.016734900Z",
     "start_time": "2024-11-26T08:51:22.343982500Z"
    }
   }
  },
  {
   "cell_type": "code",
   "outputs": [],
   "source": [],
   "metadata": {
    "collapsed": false
   }
  },
  {
   "cell_type": "code",
   "execution_count": 3,
   "outputs": [],
   "source": [
    "datapath = r'D:\\Project_data\\2023-eag249\\FMI_data'"
   ],
   "metadata": {
    "collapsed": false,
    "pycharm": {
     "name": "#%%\n"
    },
    "ExecuteTime": {
     "end_time": "2024-11-26T08:51:26.194640600Z",
     "start_time": "2024-11-26T08:51:26.173642300Z"
    }
   }
  },
  {
   "cell_type": "code",
   "execution_count": 4,
   "outputs": [
    {
     "data": {
      "text/plain": "'2016'"
     },
     "execution_count": 4,
     "metadata": {},
     "output_type": "execute_result"
    }
   ],
   "source": [
    "# folder has data from three buoys separated by years\n",
    "files = os.listdir(datapath)\n",
    "files[0].split('_')[1][0:4]"
   ],
   "metadata": {
    "collapsed": false,
    "pycharm": {
     "name": "#%%\n"
    },
    "ExecuteTime": {
     "end_time": "2024-11-26T08:51:27.091804400Z",
     "start_time": "2024-11-26T08:51:27.061775800Z"
    }
   }
  },
  {
   "cell_type": "code",
   "execution_count": 58,
   "outputs": [],
   "source": [
    "# just for fun challenge to do this in OOP\n",
    "\n",
    "class FmiDataLoad(object):\n",
    "    datapath = r'D:\\Project_data\\2023-eag249\\FMI_data'\n",
    "    start_f_ind = 0  # 0.025 Hz\n",
    "    end_f_ind = 80  # 0.6 Hz\n",
    "\n",
    "    def __init__(self, station: str, ds_params: list):\n",
    "        if self.validate_station_name(station):\n",
    "            self.stationname = station\n",
    "        if self.validate_param_names(ds_params):\n",
    "            self.ds_params = ds_params\n",
    "\n",
    "        self.available_files = self.get_available_files()\n",
    "        self.F = None\n",
    "        self.S = None\n",
    "        self.SPR = None\n",
    "        self.D = None\n",
    "\n",
    "    def load_vars_into_df(self):\n",
    "        for param in self.ds_params:\n",
    "            if param == 'S':\n",
    "                self.S = self.load_param(param)\n",
    "            if param == 'spr':\n",
    "                self.SPR = self.load_param(param)\n",
    "            if param == 'D':\n",
    "                self.D = self.load_param(param)\n",
    "\n",
    "    def load_param(self, param) -> pd.DataFrame:\n",
    "        df = pd.DataFrame()\n",
    "        for file in self.available_files:\n",
    "            dset = nc.Dataset(os.path.join(FmiDataLoad.datapath, file))\n",
    "            time = dset['time']\n",
    "\n",
    "            data = ma.getdata(dset[param][:])\n",
    "            df_i = pd.DataFrame(data[FmiDataLoad.start_f_ind: FmiDataLoad.end_f_ind, :].T, index=pd.to_datetime(time[:], unit='s'))\n",
    "            # df['Date'] = pd.to_datetime(time[:], unit='s')\n",
    "            df = pd.concat([df, df_i], axis=0)\n",
    "\n",
    "        # assumption that all the Frequency values between files are the same.. should check\n",
    "        f = dset['F']  # takes F from last file\n",
    "        self.F = ma.getdata(f[:][FmiDataLoad.start_f_ind:FmiDataLoad.end_f_ind, 0])\n",
    "        f_str = [str(x) for x in f[:][FmiDataLoad.start_f_ind:FmiDataLoad.end_f_ind, 0]]\n",
    "        df.columns = f_str\n",
    "        return df\n",
    "\n",
    "    def get_available_files(self) -> list:\n",
    "        files = os.listdir(FmiDataLoad.datapath)\n",
    "        available_files = []\n",
    "        for file in files:\n",
    "            if file.startswith(self.stationname):\n",
    "                available_files.append(file)\n",
    "        return available_files\n",
    "\n",
    "    @staticmethod\n",
    "    def validate_param_names(params):\n",
    "        valid = []\n",
    "        for param in params:\n",
    "            valid.append(FmiDataLoad.valid_params(param))\n",
    "            if np.all(valid):\n",
    "                return True\n",
    "            else:\n",
    "                raise ValueError(f'Not valid parameter names. Expected S, spr; got {param}')\n",
    "\n",
    "    @staticmethod\n",
    "    def validate_station_name(station):\n",
    "        if station in ['BS', 'NBP', 'GOF']:\n",
    "            return True\n",
    "        else:\n",
    "            raise ValueError(f'Not valid stationname, expected BS, NBP, GOF. Got {station}')\n",
    "\n",
    "    @staticmethod\n",
    "    def valid_params(param):\n",
    "        if param in ['S', 'spr', 'D']:\n",
    "            return True\n",
    "        else:\n",
    "            raise ValueError(f'Not valid parameter name! Expected S, or spr; got {param}.')\n"
   ],
   "metadata": {
    "collapsed": false,
    "pycharm": {
     "name": "#%%\n"
    },
    "ExecuteTime": {
     "end_time": "2024-11-26T09:24:44.399964900Z",
     "start_time": "2024-11-26T09:24:44.382962300Z"
    }
   }
  },
  {
   "cell_type": "code",
   "execution_count": 60,
   "outputs": [
    {
     "ename": "UnboundLocalError",
     "evalue": "local variable 'dset' referenced before assignment",
     "output_type": "error",
     "traceback": [
      "\u001B[1;31m---------------------------------------------------------------------------\u001B[0m",
      "\u001B[1;31mUnboundLocalError\u001B[0m                         Traceback (most recent call last)",
      "Cell \u001B[1;32mIn[60], line 2\u001B[0m\n\u001B[0;32m      1\u001B[0m test \u001B[38;5;241m=\u001B[39m FmiDataLoad(station\u001B[38;5;241m=\u001B[39m\u001B[38;5;124m'\u001B[39m\u001B[38;5;124mGOF\u001B[39m\u001B[38;5;124m'\u001B[39m, ds_params\u001B[38;5;241m=\u001B[39m[\u001B[38;5;124m'\u001B[39m\u001B[38;5;124mS\u001B[39m\u001B[38;5;124m'\u001B[39m])\n\u001B[1;32m----> 2\u001B[0m \u001B[43mtest\u001B[49m\u001B[38;5;241;43m.\u001B[39;49m\u001B[43mload_vars_into_df\u001B[49m\u001B[43m(\u001B[49m\u001B[43m)\u001B[49m\n\u001B[0;32m      3\u001B[0m test\u001B[38;5;241m.\u001B[39mS\n",
      "Cell \u001B[1;32mIn[58], line 23\u001B[0m, in \u001B[0;36mFmiDataLoad.load_vars_into_df\u001B[1;34m(self)\u001B[0m\n\u001B[0;32m     21\u001B[0m \u001B[38;5;28;01mfor\u001B[39;00m param \u001B[38;5;129;01min\u001B[39;00m \u001B[38;5;28mself\u001B[39m\u001B[38;5;241m.\u001B[39mds_params:\n\u001B[0;32m     22\u001B[0m     \u001B[38;5;28;01mif\u001B[39;00m param \u001B[38;5;241m==\u001B[39m \u001B[38;5;124m'\u001B[39m\u001B[38;5;124mS\u001B[39m\u001B[38;5;124m'\u001B[39m:\n\u001B[1;32m---> 23\u001B[0m         \u001B[38;5;28mself\u001B[39m\u001B[38;5;241m.\u001B[39mS \u001B[38;5;241m=\u001B[39m \u001B[38;5;28;43mself\u001B[39;49m\u001B[38;5;241;43m.\u001B[39;49m\u001B[43mload_param\u001B[49m\u001B[43m(\u001B[49m\u001B[43mparam\u001B[49m\u001B[43m)\u001B[49m\n\u001B[0;32m     24\u001B[0m     \u001B[38;5;28;01mif\u001B[39;00m param \u001B[38;5;241m==\u001B[39m \u001B[38;5;124m'\u001B[39m\u001B[38;5;124mspr\u001B[39m\u001B[38;5;124m'\u001B[39m:\n\u001B[0;32m     25\u001B[0m         \u001B[38;5;28mself\u001B[39m\u001B[38;5;241m.\u001B[39mSPR \u001B[38;5;241m=\u001B[39m \u001B[38;5;28mself\u001B[39m\u001B[38;5;241m.\u001B[39mload_param(param)\n",
      "Cell \u001B[1;32mIn[58], line 41\u001B[0m, in \u001B[0;36mFmiDataLoad.load_param\u001B[1;34m(self, param)\u001B[0m\n\u001B[0;32m     38\u001B[0m     df \u001B[38;5;241m=\u001B[39m pd\u001B[38;5;241m.\u001B[39mconcat([df, df_i], axis\u001B[38;5;241m=\u001B[39m\u001B[38;5;241m0\u001B[39m)\n\u001B[0;32m     40\u001B[0m \u001B[38;5;66;03m# assumption that all the Frequency values between files are the same.. should check\u001B[39;00m\n\u001B[1;32m---> 41\u001B[0m f \u001B[38;5;241m=\u001B[39m \u001B[43mdset\u001B[49m[\u001B[38;5;124m'\u001B[39m\u001B[38;5;124mF\u001B[39m\u001B[38;5;124m'\u001B[39m]  \u001B[38;5;66;03m# takes F from last file\u001B[39;00m\n\u001B[0;32m     42\u001B[0m \u001B[38;5;28mself\u001B[39m\u001B[38;5;241m.\u001B[39mF \u001B[38;5;241m=\u001B[39m ma\u001B[38;5;241m.\u001B[39mgetdata(f[:][FmiDataLoad\u001B[38;5;241m.\u001B[39mstart_f_ind:FmiDataLoad\u001B[38;5;241m.\u001B[39mend_f_ind, \u001B[38;5;241m0\u001B[39m])\n\u001B[0;32m     43\u001B[0m f_str \u001B[38;5;241m=\u001B[39m [\u001B[38;5;28mstr\u001B[39m(x) \u001B[38;5;28;01mfor\u001B[39;00m x \u001B[38;5;129;01min\u001B[39;00m f[:][FmiDataLoad\u001B[38;5;241m.\u001B[39mstart_f_ind:FmiDataLoad\u001B[38;5;241m.\u001B[39mend_f_ind, \u001B[38;5;241m0\u001B[39m]]\n",
      "\u001B[1;31mUnboundLocalError\u001B[0m: local variable 'dset' referenced before assignment"
     ]
    }
   ],
   "source": [
    "test = FmiDataLoad(station='GOF', ds_params=['S', 'spr', 'D'])\n",
    "test.load_vars_into_df()\n",
    "test.S"
   ],
   "metadata": {
    "collapsed": false,
    "pycharm": {
     "name": "#%%\n"
    },
    "ExecuteTime": {
     "end_time": "2024-11-26T09:26:09.043859400Z",
     "start_time": "2024-11-26T09:26:08.960708400Z"
    }
   }
  },
  {
   "cell_type": "code",
   "execution_count": 15,
   "outputs": [
    {
     "data": {
      "text/plain": "[0, 2]"
     },
     "execution_count": 15,
     "metadata": {},
     "output_type": "execute_result"
    }
   ],
   "source": [
    "valid = [False, True, False]\n",
    "[i for i, x in enumerate(valid) if not x]"
   ],
   "metadata": {
    "collapsed": false,
    "pycharm": {
     "name": "#%%\n"
    }
   }
  },
  {
   "cell_type": "code",
   "execution_count": 49,
   "outputs": [],
   "source": [
    "df_spec = test.D"
   ],
   "metadata": {
    "collapsed": false,
    "pycharm": {
     "name": "#%%\n"
    },
    "ExecuteTime": {
     "end_time": "2024-11-26T09:23:28.808668Z",
     "start_time": "2024-11-26T09:23:28.782667700Z"
    }
   }
  },
  {
   "cell_type": "code",
   "execution_count": 50,
   "outputs": [
    {
     "data": {
      "text/plain": "                      0.025    0.03   0.035    0.04   0.045    0.05   0.055  \\\n2016-01-01 00:25:00  160.00  155.00  159.00  149.00  157.00  157.00  163.00   \n2016-01-01 00:55:00  202.00  149.00  181.00  191.00  180.00  174.00  186.00   \n2016-01-01 01:25:00  169.00  187.00  172.00  156.00  162.00  183.00  139.00   \n2016-01-01 01:55:00  159.00  157.00  139.00  148.00  156.00  150.00  159.00   \n2016-01-01 02:25:00  177.00  190.00  166.00  188.00  159.00  160.00  152.00   \n...                     ...     ...     ...     ...     ...     ...     ...   \n2022-12-31 21:30:00  186.64  189.80  204.92  217.14  214.68  225.58  233.05   \n2022-12-31 22:00:00  198.51  197.36  207.38  198.68  195.60  213.10  237.89   \n2022-12-31 22:30:00  204.04  242.99  231.56  240.70  237.89  220.92  241.05   \n2022-12-31 23:00:00  216.44  217.76  214.33  230.77  246.33  263.38  215.65   \n2022-12-31 23:30:00  176.35  214.86  236.40  217.23  211.43  225.76  224.88   \n\n                       0.06   0.065    0.07  ...     0.5    0.51    0.52  \\\n2016-01-01 00:25:00  156.00  149.00  159.00  ...   -9.00   -9.00   -9.00   \n2016-01-01 00:55:00  157.00  176.00  146.00  ...   -9.00   -9.00   -9.00   \n2016-01-01 01:25:00  165.00  152.00  156.00  ...   -9.00   -9.00   -9.00   \n2016-01-01 01:55:00  142.00  148.00  163.00  ...   -9.00   -9.00   -9.00   \n2016-01-01 02:25:00  159.00  163.00  148.00  ...   -9.00   -9.00   -9.00   \n...                     ...     ...     ...  ...     ...     ...     ...   \n2022-12-31 21:30:00  230.07  221.19  221.19  ...  259.52  243.08  244.66   \n2022-12-31 22:00:00  226.29  223.12  229.36  ...  275.87  253.01  251.52   \n2022-12-31 22:30:00  224.18  222.86  238.07  ...  233.67  263.74  256.62   \n2022-12-31 23:00:00  230.07  238.51  233.85  ...  275.60  266.37  260.75   \n2022-12-31 23:30:00  225.58  228.57  231.82  ...  264.62  266.29  277.54   \n\n                       0.53    0.54    0.55    0.56    0.57    0.58     0.6  \n2016-01-01 00:25:00   -9.00   -9.00   -9.00   -9.00   -9.00   -9.00   -9.00  \n2016-01-01 00:55:00   -9.00   -9.00   -9.00   -9.00   -9.00   -9.00   -9.00  \n2016-01-01 01:25:00   -9.00   -9.00   -9.00   -9.00   -9.00   -9.00   -9.00  \n2016-01-01 01:55:00   -9.00   -9.00   -9.00   -9.00   -9.00   -9.00   -9.00  \n2016-01-01 02:25:00   -9.00   -9.00   -9.00   -9.00   -9.00   -9.00   -9.00  \n...                     ...     ...     ...     ...     ...     ...     ...  \n2022-12-31 21:30:00  268.13  257.05  261.10  256.88  267.78  247.30  258.99  \n2022-12-31 22:00:00  256.88  271.82  229.45  243.87  264.09  280.97  252.40  \n2022-12-31 22:30:00  259.96  263.30  251.96  250.20  265.93  294.95  261.19  \n2022-12-31 23:00:00  234.55  266.81  280.53  285.27  271.30  273.93  253.27  \n2022-12-31 23:30:00  259.96  268.31  268.84  275.34  268.84  268.75  291.08  \n\n[120308 rows x 80 columns]",
      "text/html": "<div>\n<style scoped>\n    .dataframe tbody tr th:only-of-type {\n        vertical-align: middle;\n    }\n\n    .dataframe tbody tr th {\n        vertical-align: top;\n    }\n\n    .dataframe thead th {\n        text-align: right;\n    }\n</style>\n<table border=\"1\" class=\"dataframe\">\n  <thead>\n    <tr style=\"text-align: right;\">\n      <th></th>\n      <th>0.025</th>\n      <th>0.03</th>\n      <th>0.035</th>\n      <th>0.04</th>\n      <th>0.045</th>\n      <th>0.05</th>\n      <th>0.055</th>\n      <th>0.06</th>\n      <th>0.065</th>\n      <th>0.07</th>\n      <th>...</th>\n      <th>0.5</th>\n      <th>0.51</th>\n      <th>0.52</th>\n      <th>0.53</th>\n      <th>0.54</th>\n      <th>0.55</th>\n      <th>0.56</th>\n      <th>0.57</th>\n      <th>0.58</th>\n      <th>0.6</th>\n    </tr>\n  </thead>\n  <tbody>\n    <tr>\n      <th>2016-01-01 00:25:00</th>\n      <td>160.00</td>\n      <td>155.00</td>\n      <td>159.00</td>\n      <td>149.00</td>\n      <td>157.00</td>\n      <td>157.00</td>\n      <td>163.00</td>\n      <td>156.00</td>\n      <td>149.00</td>\n      <td>159.00</td>\n      <td>...</td>\n      <td>-9.00</td>\n      <td>-9.00</td>\n      <td>-9.00</td>\n      <td>-9.00</td>\n      <td>-9.00</td>\n      <td>-9.00</td>\n      <td>-9.00</td>\n      <td>-9.00</td>\n      <td>-9.00</td>\n      <td>-9.00</td>\n    </tr>\n    <tr>\n      <th>2016-01-01 00:55:00</th>\n      <td>202.00</td>\n      <td>149.00</td>\n      <td>181.00</td>\n      <td>191.00</td>\n      <td>180.00</td>\n      <td>174.00</td>\n      <td>186.00</td>\n      <td>157.00</td>\n      <td>176.00</td>\n      <td>146.00</td>\n      <td>...</td>\n      <td>-9.00</td>\n      <td>-9.00</td>\n      <td>-9.00</td>\n      <td>-9.00</td>\n      <td>-9.00</td>\n      <td>-9.00</td>\n      <td>-9.00</td>\n      <td>-9.00</td>\n      <td>-9.00</td>\n      <td>-9.00</td>\n    </tr>\n    <tr>\n      <th>2016-01-01 01:25:00</th>\n      <td>169.00</td>\n      <td>187.00</td>\n      <td>172.00</td>\n      <td>156.00</td>\n      <td>162.00</td>\n      <td>183.00</td>\n      <td>139.00</td>\n      <td>165.00</td>\n      <td>152.00</td>\n      <td>156.00</td>\n      <td>...</td>\n      <td>-9.00</td>\n      <td>-9.00</td>\n      <td>-9.00</td>\n      <td>-9.00</td>\n      <td>-9.00</td>\n      <td>-9.00</td>\n      <td>-9.00</td>\n      <td>-9.00</td>\n      <td>-9.00</td>\n      <td>-9.00</td>\n    </tr>\n    <tr>\n      <th>2016-01-01 01:55:00</th>\n      <td>159.00</td>\n      <td>157.00</td>\n      <td>139.00</td>\n      <td>148.00</td>\n      <td>156.00</td>\n      <td>150.00</td>\n      <td>159.00</td>\n      <td>142.00</td>\n      <td>148.00</td>\n      <td>163.00</td>\n      <td>...</td>\n      <td>-9.00</td>\n      <td>-9.00</td>\n      <td>-9.00</td>\n      <td>-9.00</td>\n      <td>-9.00</td>\n      <td>-9.00</td>\n      <td>-9.00</td>\n      <td>-9.00</td>\n      <td>-9.00</td>\n      <td>-9.00</td>\n    </tr>\n    <tr>\n      <th>2016-01-01 02:25:00</th>\n      <td>177.00</td>\n      <td>190.00</td>\n      <td>166.00</td>\n      <td>188.00</td>\n      <td>159.00</td>\n      <td>160.00</td>\n      <td>152.00</td>\n      <td>159.00</td>\n      <td>163.00</td>\n      <td>148.00</td>\n      <td>...</td>\n      <td>-9.00</td>\n      <td>-9.00</td>\n      <td>-9.00</td>\n      <td>-9.00</td>\n      <td>-9.00</td>\n      <td>-9.00</td>\n      <td>-9.00</td>\n      <td>-9.00</td>\n      <td>-9.00</td>\n      <td>-9.00</td>\n    </tr>\n    <tr>\n      <th>...</th>\n      <td>...</td>\n      <td>...</td>\n      <td>...</td>\n      <td>...</td>\n      <td>...</td>\n      <td>...</td>\n      <td>...</td>\n      <td>...</td>\n      <td>...</td>\n      <td>...</td>\n      <td>...</td>\n      <td>...</td>\n      <td>...</td>\n      <td>...</td>\n      <td>...</td>\n      <td>...</td>\n      <td>...</td>\n      <td>...</td>\n      <td>...</td>\n      <td>...</td>\n      <td>...</td>\n    </tr>\n    <tr>\n      <th>2022-12-31 21:30:00</th>\n      <td>186.64</td>\n      <td>189.80</td>\n      <td>204.92</td>\n      <td>217.14</td>\n      <td>214.68</td>\n      <td>225.58</td>\n      <td>233.05</td>\n      <td>230.07</td>\n      <td>221.19</td>\n      <td>221.19</td>\n      <td>...</td>\n      <td>259.52</td>\n      <td>243.08</td>\n      <td>244.66</td>\n      <td>268.13</td>\n      <td>257.05</td>\n      <td>261.10</td>\n      <td>256.88</td>\n      <td>267.78</td>\n      <td>247.30</td>\n      <td>258.99</td>\n    </tr>\n    <tr>\n      <th>2022-12-31 22:00:00</th>\n      <td>198.51</td>\n      <td>197.36</td>\n      <td>207.38</td>\n      <td>198.68</td>\n      <td>195.60</td>\n      <td>213.10</td>\n      <td>237.89</td>\n      <td>226.29</td>\n      <td>223.12</td>\n      <td>229.36</td>\n      <td>...</td>\n      <td>275.87</td>\n      <td>253.01</td>\n      <td>251.52</td>\n      <td>256.88</td>\n      <td>271.82</td>\n      <td>229.45</td>\n      <td>243.87</td>\n      <td>264.09</td>\n      <td>280.97</td>\n      <td>252.40</td>\n    </tr>\n    <tr>\n      <th>2022-12-31 22:30:00</th>\n      <td>204.04</td>\n      <td>242.99</td>\n      <td>231.56</td>\n      <td>240.70</td>\n      <td>237.89</td>\n      <td>220.92</td>\n      <td>241.05</td>\n      <td>224.18</td>\n      <td>222.86</td>\n      <td>238.07</td>\n      <td>...</td>\n      <td>233.67</td>\n      <td>263.74</td>\n      <td>256.62</td>\n      <td>259.96</td>\n      <td>263.30</td>\n      <td>251.96</td>\n      <td>250.20</td>\n      <td>265.93</td>\n      <td>294.95</td>\n      <td>261.19</td>\n    </tr>\n    <tr>\n      <th>2022-12-31 23:00:00</th>\n      <td>216.44</td>\n      <td>217.76</td>\n      <td>214.33</td>\n      <td>230.77</td>\n      <td>246.33</td>\n      <td>263.38</td>\n      <td>215.65</td>\n      <td>230.07</td>\n      <td>238.51</td>\n      <td>233.85</td>\n      <td>...</td>\n      <td>275.60</td>\n      <td>266.37</td>\n      <td>260.75</td>\n      <td>234.55</td>\n      <td>266.81</td>\n      <td>280.53</td>\n      <td>285.27</td>\n      <td>271.30</td>\n      <td>273.93</td>\n      <td>253.27</td>\n    </tr>\n    <tr>\n      <th>2022-12-31 23:30:00</th>\n      <td>176.35</td>\n      <td>214.86</td>\n      <td>236.40</td>\n      <td>217.23</td>\n      <td>211.43</td>\n      <td>225.76</td>\n      <td>224.88</td>\n      <td>225.58</td>\n      <td>228.57</td>\n      <td>231.82</td>\n      <td>...</td>\n      <td>264.62</td>\n      <td>266.29</td>\n      <td>277.54</td>\n      <td>259.96</td>\n      <td>268.31</td>\n      <td>268.84</td>\n      <td>275.34</td>\n      <td>268.84</td>\n      <td>268.75</td>\n      <td>291.08</td>\n    </tr>\n  </tbody>\n</table>\n<p>120308 rows × 80 columns</p>\n</div>"
     },
     "execution_count": 50,
     "metadata": {},
     "output_type": "execute_result"
    }
   ],
   "source": [
    "df_spec.index = pd.to_datetime(df_spec.index)\n",
    "df_spec"
   ],
   "metadata": {
    "collapsed": false,
    "pycharm": {
     "name": "#%%\n"
    },
    "ExecuteTime": {
     "end_time": "2024-11-26T09:23:29.560872600Z",
     "start_time": "2024-11-26T09:23:29.491358300Z"
    }
   }
  },
  {
   "cell_type": "code",
   "outputs": [
    {
     "data": {
      "text/plain": "                      0.025    0.03   0.035    0.04   0.045    0.05   0.055  \\\n2016-01-01 00:55:00  202.00  149.00  181.00  191.00  180.00  174.00  186.00   \n2016-01-01 01:55:00  159.00  157.00  139.00  148.00  156.00  150.00  159.00   \n2016-01-01 02:55:00  139.00  156.00  125.00  124.00  149.00  135.00  139.00   \n2016-01-01 03:55:00  148.00  141.00  173.00  155.00  163.00  156.00  153.00   \n2016-01-01 04:55:00  160.00  169.00  186.00  190.00  188.00  170.00  187.00   \n...                     ...     ...     ...     ...     ...     ...     ...   \n2022-12-31 19:00:00  201.76  223.91  230.33  228.92  232.26  216.62  212.48   \n2022-12-31 20:00:00  217.23  221.01  245.80  234.46  232.26  242.46  244.31   \n2022-12-31 21:00:00  187.96  202.64  213.63  236.13  220.57  214.07  214.86   \n2022-12-31 22:00:00  198.51  197.36  207.38  198.68  195.60  213.10  237.89   \n2022-12-31 23:00:00  216.44  217.76  214.33  230.77  246.33  263.38  215.65   \n\n                       0.06   0.065    0.07  ...     0.5    0.51    0.52  \\\n2016-01-01 00:55:00  157.00  176.00  146.00  ...   -9.00   -9.00   -9.00   \n2016-01-01 01:55:00  142.00  148.00  163.00  ...   -9.00   -9.00   -9.00   \n2016-01-01 02:55:00  124.00  145.00  152.00  ...   -9.00   -9.00   -9.00   \n2016-01-01 03:55:00  156.00  150.00  159.00  ...   -9.00   -9.00   -9.00   \n2016-01-01 04:55:00  187.00  165.00  172.00  ...   -9.00   -9.00   -9.00   \n...                     ...     ...     ...  ...     ...     ...     ...   \n2022-12-31 19:00:00  217.32  213.63  238.68  ...  249.85  202.20  220.75   \n2022-12-31 20:00:00  237.89  227.60  234.02  ...  240.53  241.58  238.59   \n2022-12-31 21:00:00  217.05  243.25  210.46  ...  255.65  249.93  267.69   \n2022-12-31 22:00:00  226.29  223.12  229.36  ...  275.87  253.01  251.52   \n2022-12-31 23:00:00  230.07  238.51  233.85  ...  275.60  266.37  260.75   \n\n                       0.53    0.54    0.55    0.56    0.57    0.58     0.6  \n2016-01-01 00:55:00   -9.00   -9.00   -9.00   -9.00   -9.00   -9.00   -9.00  \n2016-01-01 01:55:00   -9.00   -9.00   -9.00   -9.00   -9.00   -9.00   -9.00  \n2016-01-01 02:55:00   -9.00   -9.00   -9.00   -9.00   -9.00   -9.00   -9.00  \n2016-01-01 03:55:00   -9.00   -9.00   -9.00   -9.00   -9.00   -9.00   -9.00  \n2016-01-01 04:55:00   -9.00   -9.00   -9.00   -9.00   -9.00   -9.00   -9.00  \n...                     ...     ...     ...     ...     ...     ...     ...  \n2022-12-31 19:00:00  205.54  242.29  207.12  239.12  225.23  239.38  240.88  \n2022-12-31 20:00:00  256.53  231.30  237.89  241.58  271.21  259.60  230.15  \n2022-12-31 21:00:00  239.12  279.74  239.30  266.46  250.55  270.77  257.58  \n2022-12-31 22:00:00  256.88  271.82  229.45  243.87  264.09  280.97  252.40  \n2022-12-31 23:00:00  234.55  266.81  280.53  285.27  271.30  273.93  253.27  \n\n[60152 rows x 80 columns]",
      "text/html": "<div>\n<style scoped>\n    .dataframe tbody tr th:only-of-type {\n        vertical-align: middle;\n    }\n\n    .dataframe tbody tr th {\n        vertical-align: top;\n    }\n\n    .dataframe thead th {\n        text-align: right;\n    }\n</style>\n<table border=\"1\" class=\"dataframe\">\n  <thead>\n    <tr style=\"text-align: right;\">\n      <th></th>\n      <th>0.025</th>\n      <th>0.03</th>\n      <th>0.035</th>\n      <th>0.04</th>\n      <th>0.045</th>\n      <th>0.05</th>\n      <th>0.055</th>\n      <th>0.06</th>\n      <th>0.065</th>\n      <th>0.07</th>\n      <th>...</th>\n      <th>0.5</th>\n      <th>0.51</th>\n      <th>0.52</th>\n      <th>0.53</th>\n      <th>0.54</th>\n      <th>0.55</th>\n      <th>0.56</th>\n      <th>0.57</th>\n      <th>0.58</th>\n      <th>0.6</th>\n    </tr>\n  </thead>\n  <tbody>\n    <tr>\n      <th>2016-01-01 00:55:00</th>\n      <td>202.00</td>\n      <td>149.00</td>\n      <td>181.00</td>\n      <td>191.00</td>\n      <td>180.00</td>\n      <td>174.00</td>\n      <td>186.00</td>\n      <td>157.00</td>\n      <td>176.00</td>\n      <td>146.00</td>\n      <td>...</td>\n      <td>-9.00</td>\n      <td>-9.00</td>\n      <td>-9.00</td>\n      <td>-9.00</td>\n      <td>-9.00</td>\n      <td>-9.00</td>\n      <td>-9.00</td>\n      <td>-9.00</td>\n      <td>-9.00</td>\n      <td>-9.00</td>\n    </tr>\n    <tr>\n      <th>2016-01-01 01:55:00</th>\n      <td>159.00</td>\n      <td>157.00</td>\n      <td>139.00</td>\n      <td>148.00</td>\n      <td>156.00</td>\n      <td>150.00</td>\n      <td>159.00</td>\n      <td>142.00</td>\n      <td>148.00</td>\n      <td>163.00</td>\n      <td>...</td>\n      <td>-9.00</td>\n      <td>-9.00</td>\n      <td>-9.00</td>\n      <td>-9.00</td>\n      <td>-9.00</td>\n      <td>-9.00</td>\n      <td>-9.00</td>\n      <td>-9.00</td>\n      <td>-9.00</td>\n      <td>-9.00</td>\n    </tr>\n    <tr>\n      <th>2016-01-01 02:55:00</th>\n      <td>139.00</td>\n      <td>156.00</td>\n      <td>125.00</td>\n      <td>124.00</td>\n      <td>149.00</td>\n      <td>135.00</td>\n      <td>139.00</td>\n      <td>124.00</td>\n      <td>145.00</td>\n      <td>152.00</td>\n      <td>...</td>\n      <td>-9.00</td>\n      <td>-9.00</td>\n      <td>-9.00</td>\n      <td>-9.00</td>\n      <td>-9.00</td>\n      <td>-9.00</td>\n      <td>-9.00</td>\n      <td>-9.00</td>\n      <td>-9.00</td>\n      <td>-9.00</td>\n    </tr>\n    <tr>\n      <th>2016-01-01 03:55:00</th>\n      <td>148.00</td>\n      <td>141.00</td>\n      <td>173.00</td>\n      <td>155.00</td>\n      <td>163.00</td>\n      <td>156.00</td>\n      <td>153.00</td>\n      <td>156.00</td>\n      <td>150.00</td>\n      <td>159.00</td>\n      <td>...</td>\n      <td>-9.00</td>\n      <td>-9.00</td>\n      <td>-9.00</td>\n      <td>-9.00</td>\n      <td>-9.00</td>\n      <td>-9.00</td>\n      <td>-9.00</td>\n      <td>-9.00</td>\n      <td>-9.00</td>\n      <td>-9.00</td>\n    </tr>\n    <tr>\n      <th>2016-01-01 04:55:00</th>\n      <td>160.00</td>\n      <td>169.00</td>\n      <td>186.00</td>\n      <td>190.00</td>\n      <td>188.00</td>\n      <td>170.00</td>\n      <td>187.00</td>\n      <td>187.00</td>\n      <td>165.00</td>\n      <td>172.00</td>\n      <td>...</td>\n      <td>-9.00</td>\n      <td>-9.00</td>\n      <td>-9.00</td>\n      <td>-9.00</td>\n      <td>-9.00</td>\n      <td>-9.00</td>\n      <td>-9.00</td>\n      <td>-9.00</td>\n      <td>-9.00</td>\n      <td>-9.00</td>\n    </tr>\n    <tr>\n      <th>...</th>\n      <td>...</td>\n      <td>...</td>\n      <td>...</td>\n      <td>...</td>\n      <td>...</td>\n      <td>...</td>\n      <td>...</td>\n      <td>...</td>\n      <td>...</td>\n      <td>...</td>\n      <td>...</td>\n      <td>...</td>\n      <td>...</td>\n      <td>...</td>\n      <td>...</td>\n      <td>...</td>\n      <td>...</td>\n      <td>...</td>\n      <td>...</td>\n      <td>...</td>\n      <td>...</td>\n    </tr>\n    <tr>\n      <th>2022-12-31 19:00:00</th>\n      <td>201.76</td>\n      <td>223.91</td>\n      <td>230.33</td>\n      <td>228.92</td>\n      <td>232.26</td>\n      <td>216.62</td>\n      <td>212.48</td>\n      <td>217.32</td>\n      <td>213.63</td>\n      <td>238.68</td>\n      <td>...</td>\n      <td>249.85</td>\n      <td>202.20</td>\n      <td>220.75</td>\n      <td>205.54</td>\n      <td>242.29</td>\n      <td>207.12</td>\n      <td>239.12</td>\n      <td>225.23</td>\n      <td>239.38</td>\n      <td>240.88</td>\n    </tr>\n    <tr>\n      <th>2022-12-31 20:00:00</th>\n      <td>217.23</td>\n      <td>221.01</td>\n      <td>245.80</td>\n      <td>234.46</td>\n      <td>232.26</td>\n      <td>242.46</td>\n      <td>244.31</td>\n      <td>237.89</td>\n      <td>227.60</td>\n      <td>234.02</td>\n      <td>...</td>\n      <td>240.53</td>\n      <td>241.58</td>\n      <td>238.59</td>\n      <td>256.53</td>\n      <td>231.30</td>\n      <td>237.89</td>\n      <td>241.58</td>\n      <td>271.21</td>\n      <td>259.60</td>\n      <td>230.15</td>\n    </tr>\n    <tr>\n      <th>2022-12-31 21:00:00</th>\n      <td>187.96</td>\n      <td>202.64</td>\n      <td>213.63</td>\n      <td>236.13</td>\n      <td>220.57</td>\n      <td>214.07</td>\n      <td>214.86</td>\n      <td>217.05</td>\n      <td>243.25</td>\n      <td>210.46</td>\n      <td>...</td>\n      <td>255.65</td>\n      <td>249.93</td>\n      <td>267.69</td>\n      <td>239.12</td>\n      <td>279.74</td>\n      <td>239.30</td>\n      <td>266.46</td>\n      <td>250.55</td>\n      <td>270.77</td>\n      <td>257.58</td>\n    </tr>\n    <tr>\n      <th>2022-12-31 22:00:00</th>\n      <td>198.51</td>\n      <td>197.36</td>\n      <td>207.38</td>\n      <td>198.68</td>\n      <td>195.60</td>\n      <td>213.10</td>\n      <td>237.89</td>\n      <td>226.29</td>\n      <td>223.12</td>\n      <td>229.36</td>\n      <td>...</td>\n      <td>275.87</td>\n      <td>253.01</td>\n      <td>251.52</td>\n      <td>256.88</td>\n      <td>271.82</td>\n      <td>229.45</td>\n      <td>243.87</td>\n      <td>264.09</td>\n      <td>280.97</td>\n      <td>252.40</td>\n    </tr>\n    <tr>\n      <th>2022-12-31 23:00:00</th>\n      <td>216.44</td>\n      <td>217.76</td>\n      <td>214.33</td>\n      <td>230.77</td>\n      <td>246.33</td>\n      <td>263.38</td>\n      <td>215.65</td>\n      <td>230.07</td>\n      <td>238.51</td>\n      <td>233.85</td>\n      <td>...</td>\n      <td>275.60</td>\n      <td>266.37</td>\n      <td>260.75</td>\n      <td>234.55</td>\n      <td>266.81</td>\n      <td>280.53</td>\n      <td>285.27</td>\n      <td>271.30</td>\n      <td>273.93</td>\n      <td>253.27</td>\n    </tr>\n  </tbody>\n</table>\n<p>60152 rows × 80 columns</p>\n</div>"
     },
     "execution_count": 51,
     "metadata": {},
     "output_type": "execute_result"
    }
   ],
   "source": [
    "df_spec_filt = df_spec[(df_spec.index.minute < 25 ) | (df_spec.index.minute > 30) ] \n",
    "df_spec_filt"
   ],
   "metadata": {
    "collapsed": false,
    "ExecuteTime": {
     "end_time": "2024-11-26T09:23:31.390667400Z",
     "start_time": "2024-11-26T09:23:31.283667600Z"
    }
   },
   "execution_count": 51
  },
  {
   "cell_type": "code",
   "outputs": [],
   "source": [
    "df_spec_filt.to_csv('data/FMI_nbp_dir.csv')"
   ],
   "metadata": {
    "collapsed": false,
    "ExecuteTime": {
     "end_time": "2024-11-26T09:23:40.677613100Z",
     "start_time": "2024-11-26T09:23:36.404890100Z"
    }
   },
   "execution_count": 52
  },
  {
   "cell_type": "code",
   "outputs": [
    {
     "data": {
      "text/plain": "[0.025,\n 0.03,\n 0.035,\n 0.04,\n 0.045,\n 0.05,\n 0.055,\n 0.06,\n 0.065,\n 0.07,\n 0.075,\n 0.08,\n 0.085,\n 0.09,\n 0.095,\n 0.1,\n 0.105,\n 0.11,\n 0.115,\n 0.12,\n 0.125,\n 0.13,\n 0.135,\n 0.14,\n 0.145,\n 0.15,\n 0.155,\n 0.16,\n 0.165,\n 0.17,\n 0.175,\n 0.18,\n 0.185,\n 0.19,\n 0.195,\n 0.2,\n 0.205,\n 0.21,\n 0.215,\n 0.22,\n 0.225,\n 0.23,\n 0.235,\n 0.24,\n 0.245,\n 0.25,\n 0.26,\n 0.27,\n 0.28,\n 0.29,\n 0.3,\n 0.31,\n 0.32,\n 0.33,\n 0.34,\n 0.35,\n 0.36,\n 0.37,\n 0.38,\n 0.39,\n 0.4,\n 0.41,\n 0.42,\n 0.43,\n 0.44,\n 0.45,\n 0.46,\n 0.47,\n 0.48,\n 0.49,\n 0.5,\n 0.51,\n 0.52,\n 0.53,\n 0.54,\n 0.55,\n 0.56,\n 0.57,\n 0.58,\n 0.6]"
     },
     "execution_count": 64,
     "metadata": {},
     "output_type": "execute_result"
    }
   ],
   "source": [
    "[float(x) for x in df_spec_filt.columns.to_list()]"
   ],
   "metadata": {
    "collapsed": false,
    "ExecuteTime": {
     "end_time": "2024-11-26T10:36:45.361425200Z",
     "start_time": "2024-11-26T10:36:45.326395100Z"
    }
   },
   "execution_count": 64
  },
  {
   "cell_type": "code",
   "outputs": [],
   "source": [],
   "metadata": {
    "collapsed": false
   }
  }
 ],
 "metadata": {
  "kernelspec": {
   "display_name": "Python 3",
   "language": "python",
   "name": "python3"
  },
  "language_info": {
   "codemirror_mode": {
    "name": "ipython",
    "version": 2
   },
   "file_extension": ".py",
   "mimetype": "text/x-python",
   "name": "python",
   "nbconvert_exporter": "python",
   "pygments_lexer": "ipython2",
   "version": "2.7.6"
  }
 },
 "nbformat": 4,
 "nbformat_minor": 0
}
